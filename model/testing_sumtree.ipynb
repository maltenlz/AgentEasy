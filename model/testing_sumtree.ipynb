{
 "cells": [
  {
   "cell_type": "code",
   "execution_count": 24,
   "metadata": {},
   "outputs": [],
   "source": [
    "import numpy as np\n",
    "\n",
    "class SumTree:\n",
    "    def __init__(self, capacity):\n",
    "        \"\"\"\n",
    "            Efficient Implementation, first capacity - 1 nodes are reserved as inner nodes.\n",
    "            The last capacity nodes are used to store the data values.\n",
    "            Creates a multilevel binary tree efficiently (no python classes which are slow).\n",
    "        \"\"\"\n",
    "        self.capacity = capacity\n",
    "        self.tree = np.zeros(2 * capacity - 1)\n",
    "        self.data = np.zeros(capacity, dtype=object)\n",
    "        self.size = 0\n",
    "        self.write = 0\n",
    "\n",
    "    def add(self, priority, data):\n",
    "        idx = self.write + self.capacity - 1\n",
    "        self.data[self.write] = data\n",
    "        self.update(idx, priority)\n",
    "        \n",
    "        self.write += 1\n",
    "        if self.write >= self.capacity:\n",
    "            self.write = 0\n",
    "        self.size = min(self.size + 1, self.capacity)\n",
    "\n",
    "    def update(self, idx, priority):\n",
    "        change = priority - self.tree[idx]\n",
    "        self.tree[idx] = priority\n",
    "        self._propagate(idx, change)\n",
    "\n",
    "    def _propagate(self, idx, change):\n",
    "        parent = (idx - 1) // 2\n",
    "        self.tree[parent] += change\n",
    "        if parent != 0:\n",
    "            self._propagate(parent, change)\n",
    "\n",
    "    def get(self, s):\n",
    "        idx = self._retrieve(0, s)\n",
    "        dataIdx = idx - self.capacity + 1\n",
    "        return (idx, self.tree[idx], self.data[dataIdx])\n",
    "\n",
    "    def _retrieve(self, idx, s):\n",
    "        left = 2 * idx + 1\n",
    "        right = left + 1\n",
    "        if left >= len(self.tree):\n",
    "            return idx\n",
    "        if s <= self.tree[left]:\n",
    "            return self._retrieve(left, s)\n",
    "        else:\n",
    "            return self._retrieve(right, s - self.tree[left])\n",
    "\n",
    "    @property\n",
    "    def total(self):\n",
    "        return self.tree[0]\n"
   ]
  },
  {
   "cell_type": "code",
   "execution_count": 43,
   "metadata": {},
   "outputs": [
    {
     "name": "stdout",
     "output_type": "stream",
     "text": [
      "index 7 propagting to parent 3\n",
      "index 3 propagting to parent 1\n",
      "index 1 propagting to parent 0\n",
      "index 8 propagting to parent 3\n",
      "index 3 propagting to parent 1\n",
      "index 1 propagting to parent 0\n",
      "index 9 propagting to parent 4\n",
      "index 4 propagting to parent 1\n",
      "index 1 propagting to parent 0\n",
      "index 10 propagting to parent 4\n",
      "index 4 propagting to parent 1\n",
      "index 1 propagting to parent 0\n",
      "index 11 propagting to parent 5\n",
      "index 5 propagting to parent 2\n",
      "index 2 propagting to parent 0\n"
     ]
    }
   ],
   "source": [
    "test_tree = SumTree(capacity=8)\n",
    "test_tree.add(1,('test1'))\n",
    "test_tree.add(2,('test2'))\n",
    "test_tree.add(3,('test3'))\n",
    "test_tree.add(4,('test4'))\n",
    "test_tree.add(5,('test4'))\n",
    "\n"
   ]
  },
  {
   "cell_type": "code",
   "execution_count": 44,
   "metadata": {},
   "outputs": [
    {
     "data": {
      "text/plain": [
       "array([15., 10.,  5.,  3.,  7.,  5.,  0.,  1.,  2.,  3.,  4.,  5.,  0.,\n",
       "        0.,  0.])"
      ]
     },
     "execution_count": 44,
     "metadata": {},
     "output_type": "execute_result"
    }
   ],
   "source": [
    "test_tree.tree"
   ]
  },
  {
   "cell_type": "code",
   "execution_count": 38,
   "metadata": {},
   "outputs": [
    {
     "data": {
      "text/plain": [
       "array(['test1', 'test2', 'test3', 'test4', 0, 0, 0], dtype=object)"
      ]
     },
     "execution_count": 38,
     "metadata": {},
     "output_type": "execute_result"
    }
   ],
   "source": [
    "test_tree.data"
   ]
  }
 ],
 "metadata": {
  "kernelspec": {
   "display_name": "takeiteasy_env",
   "language": "python",
   "name": "python3"
  },
  "language_info": {
   "codemirror_mode": {
    "name": "ipython",
    "version": 3
   },
   "file_extension": ".py",
   "mimetype": "text/x-python",
   "name": "python",
   "nbconvert_exporter": "python",
   "pygments_lexer": "ipython3",
   "version": "3.11.7"
  }
 },
 "nbformat": 4,
 "nbformat_minor": 2
}
